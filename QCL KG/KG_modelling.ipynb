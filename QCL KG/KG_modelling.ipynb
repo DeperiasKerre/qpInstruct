{
 "cells": [
  {
   "cell_type": "code",
   "execution_count": 1,
   "id": "53dde2f8",
   "metadata": {},
   "outputs": [],
   "source": [
    "#import Graph\n",
    "from rdflib import Graph\n",
    "#import other libraries\n",
    "from rdflib import Graph, Literal, RDF, RDFS, URIRef, OWL"
   ]
  },
  {
   "cell_type": "code",
   "execution_count": 2,
   "id": "c2ef97d2",
   "metadata": {},
   "outputs": [],
   "source": [
    "#URIs\n",
    "#QCL Ontology namespace prefix\n",
    "QpOnto=\"https://github.com/DeperiasKerre/qcl_Onto/blob/main/qclontology/version-1.0/qclonto.owl#\"\n",
    "#Classes\n",
    "heterostructure=URIRef(QpOnto+\"LaserHeterostructure\")\n",
    "working_mode=URIRef(QpOnto+\"LaserWorkingMode\")\n",
    "materials=URIRef(QpOnto+\"HeterostructureMaterials\")\n",
    "unit=URIRef(\"https://qudt.org/schema/qudt/Unit\")\n",
    "quantity_kind=URIRef(\"https://qudt.org/schema/qudt/QuantityKind\")\n",
    "laser_design=URIRef(QpOnto+\"LaserDesignType\")\n",
    "academic_article=URIRef(\"http://purl.org/ontology/bibo/AcademicArticle\")\n",
    "Property=URIRef(\"https://w3id.org/mdo/core/Property\")\n",
    "agent=URIRef(\"https://www.w3.org/TR/prov-o/#Agent\")\n",
    "# URIs for Instances\n",
    "##Laser Working Modes\n",
    "continous_wave=URIRef(QpOnto+\"ContinousWaveOperation\")\n",
    "pulsed_mode=URIRef(QpOnto+\"PulsedOperation\")\n",
    "##Laser Optoelectronic Properties\n",
    "working_temperature=URIRef(QpOnto+\"WorkingTemperature\")\n",
    "optical_power=URIRef(QpOnto+\"OpticalPower\")\n",
    "lasing_frequency=URIRef(QpOnto+\"LasingFrequency\")\n",
    "##Laser Design Types\n",
    "lo_phonon=URIRef(QpOnto+\"LOPhononDepopulation\")\n",
    "bound_continum=URIRef(QpOnto+\"BoundToContinum\")\n",
    "double_resonant=URIRef(QpOnto+\"DoubleResonantPhonon\")\n",
    "#object properties \n",
    "attributed_to=URIRef(\"http://www.w3.org/ns/prov#wasAttributedTo\")\n",
    "has_materials=URIRef(QpOnto+\"hasMaterials\")\n",
    "has_designtype=URIRef(QpOnto+\"hasDesignType\")\n",
    "relates_to_heterostructure=URIRef(QpOnto+\"relatesToHeterostructure\")\n",
    "corresponds_to_working_mode=URIRef(QpOnto+\"correspondsToWorkingMode\")\n",
    "has_unit=URIRef(\"https://qudt.org/schema/qudt/hasUnit\")\n",
    "cites= URIRef(\"https://dcmi.github.io/bibo/#:cites\")\n",
    "attributed_to=URIRef(\"http://www.w3.org/ns/prov#wasAttributedTo\")\n",
    "#URIs for optolectronic Property Units\n",
    "qudt_unit=\"https://qudt.org/vocab/unit/\"\n",
    "Kelvin=URIRef(qudt_unit+\"K\")\n",
    "Milliwatt=URIRef(qudt_unit+\"MilliW\")\n",
    "TeraHertz=URIRef(qudt_unit+\"TeraHZ\")\n",
    "Nanometer=URIRef(qudt_unit+\"NanoM\")\n",
    "Angstrom=URIRef(qudt_unit+\"ANGSTROM\")\n",
    "#URIs for Quantity Kinds\n",
    "qudt_quantitykind=\"https://qudt.org/vocab/quantitykind/\"\n",
    "power=URIRef(qudt_quantitykind+\"Power\")\n",
    "frequency=URIRef(qudt_quantitykind+\"Frequency\")\n",
    "temperature=URIRef(qudt_quantitykind+\"Temperature\")\n",
    "#URIs for data properties\n",
    "doi_prop=URIRef(QpOnto+\"DOI\")\n",
    "materials_prop=URIRef(QpOnto+\"matFormula\")\n",
    "numerical_value=URIRef(\"https://qudt.org/schema/qudt/numericValue\")\n",
    "publication_url=URIRef(QpOnto+\"URL\")\n",
    "#datatypes\n",
    "string=URIRef(\"http://www.w3.org/2001/XMLSchema#string\")\n",
    "number=URIRef(\"https://schema.org/Number\")\n",
    "URL=URIRef(\"https://schema.org/URL\")"
   ]
  },
  {
   "cell_type": "code",
   "execution_count": 3,
   "id": "f2ca4568",
   "metadata": {},
   "outputs": [
    {
     "data": {
      "text/plain": [
       "<Graph identifier=N7cf7118389eb4dc59ecdea3881d49263 (<class 'rdflib.graph.Graph'>)>"
      ]
     },
     "execution_count": 3,
     "metadata": {},
     "output_type": "execute_result"
    }
   ],
   "source": [
    "#creating a graph instance\n",
    "myGraph=Graph()\n",
    "#implementing object properties\n",
    "myGraph.add((working_temperature, RDF.type, Property))\n",
    "myGraph.add((optical_power, RDF.type, Property))\n",
    "myGraph.add((lasing_frequency, RDF.type, Property))\n",
    "myGraph.add((working_temperature, relates_to_heterostructure, heterostructure))\n",
    "myGraph.add((optical_power, relates_to_heterostructure, heterostructure))\n",
    "myGraph.add((lasing_frequency, relates_to_heterostructure, heterostructure))\n",
    "myGraph.add((working_temperature, corresponds_to_working_mode, working_mode))\n",
    "myGraph.add((continous_wave, RDF.type, working_mode))\n",
    "myGraph.add((pulsed_mode, RDF.type, working_mode))\n",
    "myGraph.add((heterostructure, has_designtype, laser_design))\n",
    "myGraph.add((lo_phonon, RDF.type, laser_design))\n",
    "myGraph.add((bound_continum, RDF.type, laser_design))\n",
    "myGraph.add((double_resonant, RDF.type, laser_design))\n",
    "myGraph.add((optical_power, has_unit, Milliwatt))\n",
    "myGraph.add((lasing_frequency, has_unit, TeraHertz))\n",
    "myGraph.add((working_temperature, has_unit, Kelvin))\n",
    "myGraph.add((academic_article, cites, academic_article))\n",
    "myGraph.add((working_temperature, attributed_to, academic_article))\n",
    "myGraph.add((optical_power, attributed_to, academic_article))\n",
    "myGraph.add((lasing_frequency, attributed_to, academic_article))\n",
    "myGraph.add((heterostructure, attributed_to, academic_article))\n",
    "myGraph.add((working_mode, attributed_to, academic_article))\n",
    "myGraph.add((heterostructure, has_materials, materials))\n",
    "myGraph.add((academic_article, RDFS.subClassOf, agent))\n",
    "myGraph.add((doi_prop, RDFS.range, string))\n",
    "myGraph.add((publication_url, RDFS.range, URL))\n",
    "myGraph.add((numerical_value, RDFS.range, number))\n",
    "myGraph.add((materials_prop, RDFS.range, string))\n",
    "myGraph.add((working_temperature, RDFS.label, Literal(\"Working Temperature\")))"
   ]
  },
  {
   "cell_type": "code",
   "execution_count": 4,
   "id": "00913450",
   "metadata": {},
   "outputs": [
    {
     "name": "stdout",
     "output_type": "stream",
     "text": [
      "Number of elements:29\n"
     ]
    }
   ],
   "source": [
    "#number of graph elements\n",
    "print(f\"Number of elements:{len(myGraph)}\")"
   ]
  },
  {
   "cell_type": "code",
   "execution_count": 5,
   "id": "d161e7b9",
   "metadata": {},
   "outputs": [
    {
     "data": {
      "text/plain": [
       "<Graph identifier=N7cf7118389eb4dc59ecdea3881d49263 (<class 'rdflib.graph.Graph'>)>"
      ]
     },
     "execution_count": 5,
     "metadata": {},
     "output_type": "execute_result"
    }
   ],
   "source": [
    "#Generating the rdf graph dataset file in turtle format\n",
    "myGraph.serialize(destination=\"f1.ttl\")"
   ]
  },
  {
   "cell_type": "code",
   "execution_count": 6,
   "id": "95685a5b",
   "metadata": {},
   "outputs": [
    {
     "name": "stdout",
     "output_type": "stream",
     "text": [
      "https://github.com/DeperiasKerre/qcl_Onto/blob/main/qclontology/version-1.0/qclonto.owl#matFormula\n"
     ]
    }
   ],
   "source": [
    "print(materials_prop)"
   ]
  },
  {
   "cell_type": "code",
   "execution_count": null,
   "id": "b9658613",
   "metadata": {},
   "outputs": [],
   "source": []
  },
  {
   "cell_type": "code",
   "execution_count": null,
   "id": "722a1fba",
   "metadata": {},
   "outputs": [],
   "source": []
  }
 ],
 "metadata": {
  "kernelspec": {
   "display_name": "Python 3 (ipykernel)",
   "language": "python",
   "name": "python3"
  },
  "language_info": {
   "codemirror_mode": {
    "name": "ipython",
    "version": 3
   },
   "file_extension": ".py",
   "mimetype": "text/x-python",
   "name": "python",
   "nbconvert_exporter": "python",
   "pygments_lexer": "ipython3",
   "version": "3.11.5"
  }
 },
 "nbformat": 4,
 "nbformat_minor": 5
}
