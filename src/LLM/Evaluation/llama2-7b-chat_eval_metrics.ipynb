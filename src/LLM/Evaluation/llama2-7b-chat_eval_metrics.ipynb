{
 "cells": [
  {
   "cell_type": "code",
   "execution_count": 24,
   "id": "f98d884d",
   "metadata": {},
   "outputs": [],
   "source": [
    "#Total number of responses extracted\n",
    "total_responses=122"
   ]
  },
  {
   "cell_type": "code",
   "execution_count": 25,
   "id": "9742773c",
   "metadata": {},
   "outputs": [
    {
     "name": "stdout",
     "output_type": "stream",
     "text": [
      "Precision:  97.43589743589743 %\n",
      "Recall:  100.0 %\n"
     ]
    }
   ],
   "source": [
    "#power metrics\n",
    "total_power_records=39\n",
    "power_records_extracted=39\n",
    "correct_power_records=38\n",
    "incorrect_power_records=1\n",
    "correct_power_records_not_extracted=0\n",
    "TP=correct_power_records\n",
    "FP=incorrect_power_records\n",
    "FN=correct_power_records_not_extracted\n",
    "#precision\n",
    "precision_power=TP/(TP+FP)\n",
    "#recall\n",
    "recall_power=TP/(TP+FN)\n",
    "print(\"Precision: \", precision_power*100, \"%\")\n",
    "print(\"Recall: \", recall_power*100, \"%\")"
   ]
  },
  {
   "cell_type": "code",
   "execution_count": 26,
   "id": "7c70db39",
   "metadata": {},
   "outputs": [
    {
     "name": "stdout",
     "output_type": "stream",
     "text": [
      "Precision:  72.5 %\n",
      "Recall:  100.0 %\n"
     ]
    }
   ],
   "source": [
    "#working temperature metrics\n",
    "total_wt_records=40\n",
    "wt_records_extracted=40\n",
    "correct_wt_records=29\n",
    "incorrect_wt_records=11\n",
    "correct_wt_records_not_extracted=0\n",
    "TP=correct_wt_records\n",
    "FP=incorrect_wt_records\n",
    "FN=correct_wt_records_not_extracted\n",
    "#precision\n",
    "precision_wt=TP/(TP+FP)\n",
    "#recall\n",
    "recall_wt=TP/(TP+FN)\n",
    "print(\"Precision: \", precision_wt*100, \"%\")\n",
    "print(\"Recall: \", recall_wt*100, \"%\")"
   ]
  },
  {
   "cell_type": "code",
   "execution_count": 27,
   "id": "11b856e9",
   "metadata": {},
   "outputs": [
    {
     "name": "stdout",
     "output_type": "stream",
     "text": [
      "Precision:  100.0 %\n",
      "Recall:  100.0 %\n"
     ]
    }
   ],
   "source": [
    "#heterostructure metrics\n",
    "total_hs_records=17\n",
    "hs_records_extracted=17\n",
    "correct_hs_records=17\n",
    "incorrect_hs_records=0\n",
    "correct_hs_records_not_extracted=0\n",
    "TP=correct_hs_records\n",
    "FP=incorrect_hs_records\n",
    "FN=correct_hs_records_not_extracted\n",
    "#precision\n",
    "precision_hs=TP/(TP+FP)\n",
    "#recall\n",
    "recall_hs=TP/(TP+FN)\n",
    "print(\"Precision: \", precision_hs*100, \"%\")\n",
    "print(\"Recall: \", recall_hs*100, \"%\")"
   ]
  },
  {
   "cell_type": "code",
   "execution_count": 28,
   "id": "63c6fc94",
   "metadata": {},
   "outputs": [
    {
     "name": "stdout",
     "output_type": "stream",
     "text": [
      "Precision:  66.66666666666666 %\n",
      "Recall:  100.0 %\n"
     ]
    }
   ],
   "source": [
    "#lasing frequency metrics\n",
    "total_lf_records=18\n",
    "lf_records_extracted=18\n",
    "correct_hs_records=12\n",
    "incorrect_hs_records=6\n",
    "correct_hs_records_not_extracted=0\n",
    "TP=correct_hs_records\n",
    "FP=incorrect_hs_records\n",
    "FN=correct_hs_records_not_extracted\n",
    "#precision\n",
    "precision_lf=TP/(TP+FP)\n",
    "#recall\n",
    "recall_lf=TP/(TP+FN)\n",
    "print(\"Precision: \", precision_lf*100, \"%\")\n",
    "print(\"Recall: \", recall_lf*100, \"%\")"
   ]
  },
  {
   "cell_type": "code",
   "execution_count": 29,
   "id": "2c0097be",
   "metadata": {},
   "outputs": [
    {
     "name": "stdout",
     "output_type": "stream",
     "text": [
      "Precision:  16.666666666666664 %\n",
      "Recall:  33.33333333333333 %\n"
     ]
    }
   ],
   "source": [
    "#lasing design type metrics\n",
    "total_dt_records=8\n",
    "dt_records_extracted=8\n",
    "correct_dt_records=1\n",
    "incorrect_dt_records=5\n",
    "correct_dt_records_not_extracted=2\n",
    "TP=correct_dt_records\n",
    "FP=incorrect_dt_records\n",
    "FN=correct_dt_records_not_extracted\n",
    "#precision\n",
    "precision_dt=TP/(TP+FP)\n",
    "#recall\n",
    "recall_dt=TP/(TP+FN)\n",
    "print(\"Precision: \", precision_dt*100, \"%\")\n",
    "print(\"Recall: \", recall_dt*100, \"%\")"
   ]
  },
  {
   "cell_type": "code",
   "execution_count": 30,
   "id": "da05920f",
   "metadata": {},
   "outputs": [
    {
     "name": "stdout",
     "output_type": "stream",
     "text": [
      "Average Precision:  70.65384615384615 %\n",
      "Average Recall 81.16666666666667 %\n"
     ]
    }
   ],
   "source": [
    "#Average precision and recall\n",
    "#precision\n",
    "avg_precision= (precision_power + precision_wt + precision_hs + precision_lf + precision_dt)/5\n",
    "avg_precision=avg_precision * 100\n",
    "avg_recall= (recall_power+precision_wt+recall_hs+recall_lf+recall_dt)/5\n",
    "avg_recall= avg_recall*100\n",
    "print(\"Average Precision: \", avg_precision, \"%\")\n",
    "print(\"Average Recall\", avg_recall, \"%\" )\n"
   ]
  },
  {
   "cell_type": "code",
   "execution_count": null,
   "id": "161ad461",
   "metadata": {},
   "outputs": [],
   "source": []
  }
 ],
 "metadata": {
  "kernelspec": {
   "display_name": "Python 3 (ipykernel)",
   "language": "python",
   "name": "python3"
  },
  "language_info": {
   "codemirror_mode": {
    "name": "ipython",
    "version": 3
   },
   "file_extension": ".py",
   "mimetype": "text/x-python",
   "name": "python",
   "nbconvert_exporter": "python",
   "pygments_lexer": "ipython3",
   "version": "3.11.5"
  }
 },
 "nbformat": 4,
 "nbformat_minor": 5
}
