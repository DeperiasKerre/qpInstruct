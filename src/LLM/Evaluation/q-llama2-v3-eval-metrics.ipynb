{
 "cells": [
  {
   "cell_type": "code",
   "execution_count": 16,
   "id": "65c68ba0",
   "metadata": {},
   "outputs": [],
   "source": [
    "#Total number of responses extracted\n",
    "total_responses=130"
   ]
  },
  {
   "cell_type": "code",
   "execution_count": 17,
   "id": "f41f9065",
   "metadata": {},
   "outputs": [
    {
     "name": "stdout",
     "output_type": "stream",
     "text": [
      "Precision:  100.0 %\n",
      "Recall:  100.0 %\n"
     ]
    }
   ],
   "source": [
    "#power metrics\n",
    "total_power_records=26\n",
    "power_records_extracted=26\n",
    "correct_power_records=26\n",
    "incorrect_power_records=0\n",
    "correct_power_records_not_extracted=0\n",
    "TP=correct_power_records\n",
    "FP=incorrect_power_records\n",
    "FN=correct_power_records_not_extracted\n",
    "#precision\n",
    "precision_power=TP/(TP+FP)\n",
    "#recall\n",
    "recall_power=TP/(TP+FN)\n",
    "print(\"Precision: \", precision_power*100, \"%\")\n",
    "print(\"Recall: \", recall_power*100, \"%\")"
   ]
  },
  {
   "cell_type": "code",
   "execution_count": 18,
   "id": "76354601",
   "metadata": {},
   "outputs": [
    {
     "name": "stdout",
     "output_type": "stream",
     "text": [
      "Precision:  100.0 %\n",
      "Recall:  100.0 %\n"
     ]
    }
   ],
   "source": [
    "#working temperature metrics\n",
    "total_wt_records=34\n",
    "wt_records_extracted=34\n",
    "correct_wt_records=34\n",
    "incorrect_wt_records=0\n",
    "correct_wt_records_not_extracted=0\n",
    "TP=correct_wt_records\n",
    "FP=incorrect_wt_records\n",
    "FN=correct_wt_records_not_extracted\n",
    "#precision\n",
    "precision_wt=TP/(TP+FP)\n",
    "#recall\n",
    "recall_wt=TP/(TP+FN)\n",
    "print(\"Precision: \", precision_wt*100, \"%\")\n",
    "print(\"Recall: \", recall_wt*100, \"%\")"
   ]
  },
  {
   "cell_type": "code",
   "execution_count": 19,
   "id": "189d3e74",
   "metadata": {},
   "outputs": [
    {
     "name": "stdout",
     "output_type": "stream",
     "text": [
      "Precision:  64.28571428571429 %\n",
      "Recall:  69.23076923076923 %\n"
     ]
    }
   ],
   "source": [
    "#heterostructure metrics\n",
    "total_hs_records=14\n",
    "hs_records_extracted=14\n",
    "correct_hs_records=9\n",
    "incorrect_hs_records=5\n",
    "correct_hs_records_not_extracted=4\n",
    "TP=correct_hs_records\n",
    "FP=incorrect_hs_records\n",
    "FN=correct_hs_records_not_extracted\n",
    "#precision\n",
    "precision_hs=TP/(TP+FP)\n",
    "#recall\n",
    "recall_hs=TP/(TP+FN)\n",
    "print(\"Precision: \", precision_hs*100, \"%\")\n",
    "print(\"Recall: \", recall_hs*100, \"%\")"
   ]
  },
  {
   "cell_type": "code",
   "execution_count": 20,
   "id": "853e8ec5",
   "metadata": {},
   "outputs": [
    {
     "name": "stdout",
     "output_type": "stream",
     "text": [
      "Precision:  92.85714285714286 %\n",
      "Recall:  92.85714285714286 %\n"
     ]
    }
   ],
   "source": [
    "#lasing frequency metrics\n",
    "total_lf_records=28\n",
    "lf_records_extracted=28\n",
    "correct_hs_records=26\n",
    "incorrect_hs_records=2\n",
    "correct_hs_records_not_extracted=2\n",
    "TP=correct_hs_records\n",
    "FP=incorrect_hs_records\n",
    "FN=correct_hs_records_not_extracted\n",
    "#precision\n",
    "precision_lf=TP/(TP+FP)\n",
    "#recall\n",
    "recall_lf=TP/(TP+FN)\n",
    "print(\"Precision: \", precision_lf*100, \"%\")\n",
    "print(\"Recall: \", recall_lf*100, \"%\")"
   ]
  },
  {
   "cell_type": "code",
   "execution_count": 21,
   "id": "f63eebd7",
   "metadata": {},
   "outputs": [
    {
     "name": "stdout",
     "output_type": "stream",
     "text": [
      "Precision:  71.42857142857143 %\n",
      "Recall:  71.42857142857143 %\n"
     ]
    }
   ],
   "source": [
    "#lasing design type metrics\n",
    "total_dt_records=28\n",
    "dt_records_extracted=28\n",
    "correct_dt_records=20\n",
    "incorrect_dt_records=8\n",
    "correct_dt_records_not_extracted=8\n",
    "TP=correct_dt_records\n",
    "FP=incorrect_dt_records\n",
    "FN=correct_dt_records_not_extracted\n",
    "#precision\n",
    "precision_dt=TP/(TP+FP)\n",
    "#recall\n",
    "recall_dt=TP/(TP+FN)\n",
    "print(\"Precision: \", precision_dt*100, \"%\")\n",
    "print(\"Recall: \", recall_dt*100, \"%\")"
   ]
  },
  {
   "cell_type": "code",
   "execution_count": 22,
   "id": "8d5d2c37",
   "metadata": {},
   "outputs": [
    {
     "name": "stdout",
     "output_type": "stream",
     "text": [
      "Average Precision:  85.71428571428571 %\n",
      "Average Recall 86.70329670329672 %\n"
     ]
    }
   ],
   "source": [
    "#Average precision and recall\n",
    "#precision\n",
    "avg_precision= (precision_power + precision_wt + precision_hs + precision_lf + precision_dt)/5\n",
    "avg_precision=avg_precision * 100\n",
    "avg_recall= (recall_power+recall_wt+recall_hs+recall_lf+recall_dt)/5\n",
    "avg_recall= avg_recall*100\n",
    "print(\"Average Precision: \", avg_precision, \"%\")\n",
    "print(\"Average Recall\", avg_recall, \"%\" )"
   ]
  }
 ],
 "metadata": {
  "kernelspec": {
   "display_name": "Python 3 (ipykernel)",
   "language": "python",
   "name": "python3"
  },
  "language_info": {
   "codemirror_mode": {
    "name": "ipython",
    "version": 3
   },
   "file_extension": ".py",
   "mimetype": "text/x-python",
   "name": "python",
   "nbconvert_exporter": "python",
   "pygments_lexer": "ipython3",
   "version": "3.11.5"
  }
 },
 "nbformat": 4,
 "nbformat_minor": 5
}
