{
 "cells": [
  {
   "cell_type": "code",
   "execution_count": 19,
   "id": "65c68ba0",
   "metadata": {},
   "outputs": [],
   "source": [
    "#Total number of responses extracted\n",
    "total_responses=122"
   ]
  },
  {
   "cell_type": "code",
   "execution_count": 20,
   "id": "f41f9065",
   "metadata": {},
   "outputs": [
    {
     "name": "stdout",
     "output_type": "stream",
     "text": [
      "Precision:  92.3076923076923 %\n",
      "Recall:  100.0 %\n"
     ]
    }
   ],
   "source": [
    "#power metrics\n",
    "total_power_records=39\n",
    "power_records_extracted=39\n",
    "correct_power_records=36\n",
    "incorrect_power_records=3\n",
    "correct_power_records_not_extracted=0\n",
    "TP=correct_power_records\n",
    "FP=incorrect_power_records\n",
    "FN=correct_power_records_not_extracted\n",
    "#precision\n",
    "precision_power=TP/(TP+FP)\n",
    "#recall\n",
    "recall_power=TP/(TP+FN)\n",
    "print(\"Precision: \", precision_power*100, \"%\")\n",
    "print(\"Recall: \", recall_power*100, \"%\")"
   ]
  },
  {
   "cell_type": "code",
   "execution_count": 21,
   "id": "76354601",
   "metadata": {},
   "outputs": [
    {
     "name": "stdout",
     "output_type": "stream",
     "text": [
      "Precision:  97.5 %\n",
      "Recall:  100.0 %\n"
     ]
    }
   ],
   "source": [
    "#working temperature metrics\n",
    "total_wt_records=40\n",
    "wt_records_extracted=40\n",
    "correct_wt_records=39\n",
    "incorrect_wt_records=1\n",
    "correct_wt_records_not_extracted=0\n",
    "TP=correct_wt_records\n",
    "FP=incorrect_wt_records\n",
    "FN=correct_wt_records_not_extracted\n",
    "#precision\n",
    "precision_wt=TP/(TP+FP)\n",
    "#recall\n",
    "recall_wt=TP/(TP+FN)\n",
    "print(\"Precision: \", precision_wt*100, \"%\")\n",
    "print(\"Recall: \", recall_wt*100, \"%\")"
   ]
  },
  {
   "cell_type": "code",
   "execution_count": 22,
   "id": "189d3e74",
   "metadata": {},
   "outputs": [
    {
     "name": "stdout",
     "output_type": "stream",
     "text": [
      "Precision:  88.23529411764706 %\n",
      "Recall:  100.0 %\n"
     ]
    }
   ],
   "source": [
    "#heterostructure metrics\n",
    "total_hs_records=17\n",
    "hs_records_extracted=17\n",
    "correct_hs_records=15\n",
    "incorrect_hs_records=2\n",
    "correct_hs_records_not_extracted=0\n",
    "TP=correct_hs_records\n",
    "FP=incorrect_hs_records\n",
    "FN=correct_hs_records_not_extracted\n",
    "#precision\n",
    "precision_hs=TP/(TP+FP)\n",
    "#recall\n",
    "recall_hs=TP/(TP+FN)\n",
    "print(\"Precision: \", precision_hs*100, \"%\")\n",
    "print(\"Recall: \", recall_hs*100, \"%\")"
   ]
  },
  {
   "cell_type": "code",
   "execution_count": 23,
   "id": "853e8ec5",
   "metadata": {},
   "outputs": [
    {
     "name": "stdout",
     "output_type": "stream",
     "text": [
      "Precision:  94.44444444444444 %\n",
      "Recall:  100.0 %\n"
     ]
    }
   ],
   "source": [
    "#lasing frequency metrics\n",
    "total_lf_records=18\n",
    "lf_records_extracted=18\n",
    "correct_hs_records=17\n",
    "incorrect_hs_records=1\n",
    "correct_hs_records_not_extracted=0\n",
    "TP=correct_hs_records\n",
    "FP=incorrect_hs_records\n",
    "FN=correct_hs_records_not_extracted\n",
    "#precision\n",
    "precision_lf=TP/(TP+FP)\n",
    "#recall\n",
    "recall_lf=TP/(TP+FN)\n",
    "print(\"Precision: \", precision_lf*100, \"%\")\n",
    "print(\"Recall: \", recall_lf*100, \"%\")"
   ]
  },
  {
   "cell_type": "code",
   "execution_count": 24,
   "id": "f63eebd7",
   "metadata": {},
   "outputs": [
    {
     "name": "stdout",
     "output_type": "stream",
     "text": [
      "Precision:  75.0 %\n",
      "Recall:  100.0 %\n"
     ]
    }
   ],
   "source": [
    "#lasing design type metrics\n",
    "total_dt_records=8\n",
    "dt_records_extracted=8\n",
    "correct_dt_records=6\n",
    "incorrect_dt_records=2\n",
    "correct_dt_records_not_extracted=0\n",
    "TP=correct_dt_records\n",
    "FP=incorrect_dt_records\n",
    "FN=correct_dt_records_not_extracted\n",
    "#precision\n",
    "precision_dt=TP/(TP+FP)\n",
    "#recall\n",
    "recall_dt=TP/(TP+FN)\n",
    "print(\"Precision: \", precision_dt*100, \"%\")\n",
    "print(\"Recall: \", recall_dt*100, \"%\")"
   ]
  },
  {
   "cell_type": "code",
   "execution_count": 25,
   "id": "8d5d2c37",
   "metadata": {},
   "outputs": [
    {
     "name": "stdout",
     "output_type": "stream",
     "text": [
      "89.49748617395676 %\n"
     ]
    }
   ],
   "source": [
    "#Average precision and recall\n",
    "#precision\n",
    "avg_precision= (precision_power + precision_wt + precision_hs + precision_lf + precision_dt)/5\n",
    "avg_precision=avg_precision * 100\n",
    "print(avg_precision, \"%\")"
   ]
  }
 ],
 "metadata": {
  "kernelspec": {
   "display_name": "Python 3 (ipykernel)",
   "language": "python",
   "name": "python3"
  },
  "language_info": {
   "codemirror_mode": {
    "name": "ipython",
    "version": 3
   },
   "file_extension": ".py",
   "mimetype": "text/x-python",
   "name": "python",
   "nbconvert_exporter": "python",
   "pygments_lexer": "ipython3",
   "version": "3.11.5"
  }
 },
 "nbformat": 4,
 "nbformat_minor": 5
}
